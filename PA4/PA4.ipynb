{
 "cells": [
  {
   "cell_type": "code",
   "execution_count": 1,
   "metadata": {},
   "outputs": [],
   "source": [
    "from collections import defaultdict\n",
    "import random"
   ]
  },
  {
   "cell_type": "code",
   "execution_count": 2,
   "metadata": {},
   "outputs": [],
   "source": [
    "amino_acid = [\"A\",\"R\",\"N\",\"D\",\"C\",\"Q\",\"E\",\"G\",\"H\",\"I\",\"L\",\"K\",\"M\",\"F\",\"P\",\"S\",\"T\",\"W\",\"Y\",\"V\"]"
   ]
  },
  {
   "cell_type": "code",
   "execution_count": 3,
   "metadata": {},
   "outputs": [],
   "source": [
    "alphabet = amino_acid + [\"X\"]"
   ]
  },
  {
   "cell_type": "code",
   "execution_count": 4,
   "metadata": {},
   "outputs": [],
   "source": [
    "f1 = open(\"pa4train.txt\")\n",
    "data = [line.strip() for line in f1]\n",
    "data = [line.split() for line in data]\n",
    "train_data = [[\"\".join([w if w in amino_acid else \"X\" for w in x])]+[int(y)] for x,y in data]\n",
    "\n",
    "f2 = open(\"pa4test.txt\")\n",
    "data_t = [line.strip() for line in f2]\n",
    "data_t = [line.split() for line in data_t]\n",
    "test_data = [[\"\".join([w if w in amino_acid else \"X\" for w in x])]+[int(y)] for x,y in data_t]"
   ]
  },
  {
   "cell_type": "code",
   "execution_count": 5,
   "metadata": {},
   "outputs": [],
   "source": [
    "def dot(w1,w2):\n",
    "    sum = 0\n",
    "    for i in w1:\n",
    "        if (i in w2):\n",
    "            sum += w1[i]*w2[i]\n",
    "    return sum"
   ]
  },
  {
   "cell_type": "code",
   "execution_count": 6,
   "metadata": {},
   "outputs": [],
   "source": [
    "def add(w1,w2):\n",
    "    w_new = dict()\n",
    "    for i in w1:\n",
    "        w_new[i] = w1[i]\n",
    "    for i in w2:\n",
    "        if i not in w_new:\n",
    "            w_new[i] = 0\n",
    "        w_new[i] += w2[i] \n",
    "    return w_new"
   ]
  },
  {
   "cell_type": "code",
   "execution_count": 7,
   "metadata": {},
   "outputs": [],
   "source": [
    "def mult(x,w):\n",
    "    w_new = dict()\n",
    "    for i in w:\n",
    "        w_new[i] = x*w[i]\n",
    "    return w_new"
   ]
  },
  {
   "cell_type": "markdown",
   "metadata": {},
   "source": [
    "### Q1"
   ]
  },
  {
   "cell_type": "code",
   "execution_count": 8,
   "metadata": {},
   "outputs": [],
   "source": [
    "def string_kernel(data,p):\n",
    "    phi = []\n",
    "\n",
    "    for i in data:\n",
    "        phi_x = dict()\n",
    "        x = i[0]\n",
    "        y = i[1]\n",
    "        for j in range(0,len(x) - p + 1):\n",
    "            if x[j:j+p] not in phi_x:\n",
    "                phi_x[x[j:j+p]] = 0\n",
    "            phi_x[x[j:j+p]] += 1\n",
    "        phi += [[phi_x]+[y]]\n",
    "    return phi"
   ]
  },
  {
   "cell_type": "code",
   "execution_count": 9,
   "metadata": {},
   "outputs": [],
   "source": [
    "def perceptron(data,num_pass):\n",
    "    w = dict()\n",
    "    \n",
    "    for i in data:\n",
    "        x = i[0]\n",
    "        y = i[1]\n",
    "        temp = y*dot(w,x)\n",
    "    \n",
    "        if temp <= 0:\n",
    "            w = add(w,mult(y,x))\n",
    "    return w"
   ]
  },
  {
   "cell_type": "code",
   "execution_count": 10,
   "metadata": {},
   "outputs": [],
   "source": [
    "def error(data,phi,w):\n",
    "    count = 0\n",
    "    for i in range(len(data)):\n",
    "        t = dot(phi[i][0],w)\n",
    "        sign = 1 if t > 0 else -1 if t < 0 else random.choice([-1,1]) \n",
    "        if (sign != data[i][-1]):\n",
    "            count += 1\n",
    "    return count/len(data)"
   ]
  },
  {
   "cell_type": "code",
   "execution_count": 11,
   "metadata": {},
   "outputs": [
    {
     "name": "stdout",
     "output_type": "stream",
     "text": [
      "p = 2\n",
      "train error: 0.07107438016528926\n",
      "test error: 0.08179419525065963\n",
      "p = 3\n",
      "train error: 0.01349862258953168\n",
      "test error: 0.04221635883905013\n",
      "p = 4\n",
      "train error: 0.008264462809917356\n",
      "test error: 0.029023746701846966\n",
      "p = 5\n",
      "train error: 0.006336088154269973\n",
      "test error: 0.04353562005277045\n"
     ]
    }
   ],
   "source": [
    "for i in [2,3,4,5]:\n",
    "    print(\"p =\",i)\n",
    "    phi = string_kernel(train_data,i)\n",
    "    w = perceptron(phi,1)\n",
    "    train_error = error(train_data,phi,w)\n",
    "    print(\"train error:\",train_error)\n",
    "\n",
    "    phi_t = string_kernel(test_data,i)\n",
    "    test_error = error(test_data,phi_t,w)\n",
    "    print(\"test error:\",test_error)"
   ]
  },
  {
   "cell_type": "markdown",
   "metadata": {},
   "source": [
    "### Q2"
   ]
  },
  {
   "cell_type": "code",
   "execution_count": 12,
   "metadata": {},
   "outputs": [],
   "source": [
    "def sk_modify(data,p):\n",
    "    phi = []\n",
    "\n",
    "    for i in data:\n",
    "        phi_x = dict()\n",
    "        x = i[0]\n",
    "        y = i[1]\n",
    "        for j in range(0,len(x) - p + 1):\n",
    "            phi_x[x[j:j+p]] = 1\n",
    "        phi += [[phi_x]+[y]]\n",
    "    return phi"
   ]
  },
  {
   "cell_type": "code",
   "execution_count": 13,
   "metadata": {},
   "outputs": [
    {
     "name": "stdout",
     "output_type": "stream",
     "text": [
      "p = 2\n",
      "train error: 0.08264462809917356\n",
      "test error: 0.09762532981530343\n",
      "p = 3\n",
      "train error: 0.012396694214876033\n",
      "test error: 0.052770448548812667\n",
      "p = 4\n",
      "train error: 0.007988980716253443\n",
      "test error: 0.032981530343007916\n",
      "p = 5\n",
      "train error: 0.006060606060606061\n",
      "test error: 0.04353562005277045\n"
     ]
    }
   ],
   "source": [
    "for i in [2,3,4,5]:\n",
    "    print(\"p =\",i)\n",
    "    phi = sk_modify(train_data,i)\n",
    "    w = perceptron(phi,1)\n",
    "    train_error = error(train_data,phi,w)\n",
    "    print(\"train error:\",train_error)\n",
    "\n",
    "    phi_t = sk_modify(test_data,i)\n",
    "    test_error = error(test_data,phi_t,w)\n",
    "    print(\"test error:\",test_error)"
   ]
  },
  {
   "cell_type": "markdown",
   "metadata": {},
   "source": [
    "### Q3"
   ]
  },
  {
   "cell_type": "code",
   "execution_count": 14,
   "metadata": {},
   "outputs": [],
   "source": [
    "phi = string_kernel(train_data,5)\n",
    "w = perceptron(phi,1)"
   ]
  },
  {
   "cell_type": "code",
   "execution_count": 15,
   "metadata": {},
   "outputs": [
    {
     "data": {
      "text/plain": [
       "True"
      ]
     },
     "execution_count": 15,
     "metadata": {},
     "output_type": "execute_result"
    }
   ],
   "source": [
    "len(w) < 21**5"
   ]
  },
  {
   "cell_type": "code",
   "execution_count": 16,
   "metadata": {},
   "outputs": [
    {
     "data": {
      "text/plain": [
       "[(3, 'WDTAG'), (3, 'LFLNK')]"
      ]
     },
     "execution_count": 16,
     "metadata": {},
     "output_type": "execute_result"
    }
   ],
   "source": [
    "max_two = sorted([(w[i],i) for i in w],reverse = True)[:2]\n",
    "max_two"
   ]
  },
  {
   "cell_type": "markdown",
   "metadata": {},
   "source": [
    "The corresponding substrings are WDTAG,LFLNK."
   ]
  }
 ],
 "metadata": {
  "kernelspec": {
   "display_name": "Python 3",
   "language": "python",
   "name": "python3"
  },
  "language_info": {
   "codemirror_mode": {
    "name": "ipython",
    "version": 3
   },
   "file_extension": ".py",
   "mimetype": "text/x-python",
   "name": "python",
   "nbconvert_exporter": "python",
   "pygments_lexer": "ipython3",
   "version": "3.7.1"
  }
 },
 "nbformat": 4,
 "nbformat_minor": 2
}
