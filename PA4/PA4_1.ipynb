{
 "cells": [
  {
   "cell_type": "code",
   "execution_count": 1,
   "metadata": {},
   "outputs": [],
   "source": [
    "import numpy as np\n",
    "from collections import defaultdict\n",
    "from itertools import product\n",
    "import random"
   ]
  },
  {
   "cell_type": "code",
   "execution_count": 2,
   "metadata": {},
   "outputs": [],
   "source": [
    "amino_acid = [\"A\",\"R\",\"N\",\"D\",\"C\",\"Q\",\"E\",\"G\",\"H\",\"I\",\"L\",\"K\",\"M\",\"F\",\"P\",\"S\",\"T\",\"W\",\"Y\",\"V\"]"
   ]
  },
  {
   "cell_type": "code",
   "execution_count": 3,
   "metadata": {},
   "outputs": [],
   "source": [
    "alphabet = amino_acid + [\"X\"]"
   ]
  },
  {
   "cell_type": "code",
   "execution_count": 4,
   "metadata": {},
   "outputs": [],
   "source": [
    "f1 = open(\"pa4train.txt\")\n",
    "data = [line.strip() for line in f1]\n",
    "data = [line.split() for line in data]\n",
    "train_data = [[\"\".join([w if w in amino_acid else \"X\" for w in x])]+[int(y)] for x,y in data]\n",
    "\n",
    "f2 = open(\"pa4test.txt\")\n",
    "data_t = [line.strip() for line in f2]\n",
    "data_t = [line.split() for line in data_t]\n",
    "test_data = [[\"\".join([w if w in amino_acid else \"X\" for w in x])] for x,y in data_t]"
   ]
  },
  {
   "cell_type": "code",
   "execution_count": 5,
   "metadata": {},
   "outputs": [],
   "source": [
    "def string_kernel(x,p):\n",
    "    keys = [\"\".join(list(i)) for i in product(alphabet,repeat=p)]\n",
    "    \n",
    "    phi_x = dict.fromkeys(keys,0)\n",
    "\n",
    "    for j in range(0,len(x)- p + 1):\n",
    "        phi_x[x[j:j+p]] += 1\n",
    "    return list(phi_x.values())"
   ]
  },
  {
   "cell_type": "code",
   "execution_count": 6,
   "metadata": {},
   "outputs": [],
   "source": [
    "def K_st(s,t,p):\n",
    "    k = 0\n",
    "    for i in range(len(s) - p + 1):\n",
    "        k += t.count(s[i:i+p])\n",
    "#     print(k)\n",
    "    return k"
   ]
  },
  {
   "cell_type": "code",
   "execution_count": 7,
   "metadata": {},
   "outputs": [],
   "source": [
    "def perceptron(data,p):\n",
    "    k = 0\n",
    "    mistake = []\n",
    "    for line in data:\n",
    "        sign = line[1]*sum([y*K_st(x,line[0],p) for x,y in mistake])\n",
    "#         for x,y in mistake:\n",
    "#             sign += y*K_st(x,line[0],p)\n",
    "#             print(sign)\n",
    "#         sign *= line[-1]\n",
    "#         print(sign)\n",
    "        if sign <= 0:\n",
    "            mistake += [(line[0],line[1])]\n",
    "#         print(mistake)\n",
    "#         k += 1\n",
    "#         if(k == 5):\n",
    "#             break\n",
    "\n",
    "#     w = sum([np.multiply(y,string_kernel(x,p)) for x,y in mistake])  \n",
    "    \n",
    "    return mistake"
   ]
  },
  {
   "cell_type": "code",
   "execution_count": 12,
   "metadata": {},
   "outputs": [],
   "source": [
    "def error(data,w,p):\n",
    "    count = 0\n",
    "    for line in data:\n",
    "        t = line[1]*sum([y*K_st(x,line[0],p) for x,y in w])\n",
    "        sign = 1 if t > 0 else -1 if t < 0 else random.choice([-1,1]) \n",
    "        if (sign != line[-1]):\n",
    "            count += 1\n",
    "    return count/len(data)"
   ]
  },
  {
   "cell_type": "code",
   "execution_count": 13,
   "metadata": {},
   "outputs": [
    {
     "name": "stdout",
     "output_type": "stream",
     "text": [
      "train error : 0.5895316804407713\n"
     ]
    }
   ],
   "source": [
    "\n",
    "w = perceptron(train_data,2)\n",
    "train_error = error(train_data,w,2)\n",
    "print(\"train error :\",train_error)"
   ]
  },
  {
   "cell_type": "code",
   "execution_count": 12,
   "metadata": {},
   "outputs": [
    {
     "data": {
      "text/plain": [
       "array([-12,   6,  25, -13,  -9,   4, -10,  15, -17,  -4, -15,  -4,   9,\n",
       "        -1,  -9, -13, -28, -25, -11, -17,  -5, -15,   7,  -3,  -6,   5,\n",
       "         3,   0,   2,  -1,  -5, -12,   2,   0,  -2,   3,  16,   2,  -8,\n",
       "       -15,   4,  -2,   0,  -8,   1,  -9, -10,  -2,  -7, -24,  -5,  -6,\n",
       "       -14,  22,  -6, -10, -16,  -9, -13,   1,   5,  22,  -1, -12,  23,\n",
       "         1, -18,  -5,  -5,   0, -12,   2,  18,   6, -15,   6, -14,  -9,\n",
       "         4,  14,  -3,  17,  18,  -3,   6, -11,   2,  14,   1,  -9,  -4,\n",
       "         4, -12,  -8,  -9,  -6,  -3,   8, -11,   0, -14,   0,  -2,   7,\n",
       "         0,  -1, -12,   3,  12,  -4,   0,  18, -14,   8,  -4, -11, -14,\n",
       "       -14,  -1, -15,  -1,   5,   0,  10, -14,   0,   7,  11,  -4,   7,\n",
       "         5,   2, -10,   1,  -3,  -2,  -4,  -4,  -3,  -2, -11,  10,  -6,\n",
       "        -8,  10, -20,  -1, -13, -35,  -9,  -4,  -5,   9,   2,   9,  -6,\n",
       "         7,   9,  50, -15,  -1, -11, -39, -34,   5, -30,   9,   0,   0,\n",
       "        -5, -10,  -6,   0,  -1,  -4, -37,  -5,  -4, -11,  -5,   3,   8,\n",
       "       -18,  -8,   4,  -6,   6,   3,  -1, -14, -15,   1,  13,  16, -12,\n",
       "        10,  13,  -3,  20,  29,  -9,   6,   8,   2, -10,  -3,   3, -11,\n",
       "        19,  -2, -18,   7,   7,   5,  -7,  -1,   0,   6,  10,  11,  11,\n",
       "       -17,  10,  23,  -6, -34,  -7,  12, -22,   9,  -3,   2,   0,   1,\n",
       "       -11,  -6,   3, -12, -17, -10,  12,  -1,  -3, -15, -21,  -9,  20,\n",
       "        14,   3,  -9, -16,   0,  -1,  15,  -2,   4,  -1,  -9,   9,   3,\n",
       "        -6,   1,   4, -21,  -5,  10,   8,   6,  11,  -4, -14,  -8,  -1,\n",
       "         3, -11,  -8,  26,  16,   2,  22, -28,   0,   0,   6,  -7,  -2,\n",
       "        -1,   5, -19,  -9,  -1,  -6,  17,  -2, -13, -13, -11, -14, -11,\n",
       "        -4,  -2, -24,  -3,  20,  -5, -32, -13,   5,  -2, -11,   5, -12,\n",
       "        -3, -12,  -3,   8,   6, -13, -12,  -9,  -4,  -3,   1, -12,  -5,\n",
       "        -2,  -2,   0,  -1, -24,   4,   8, -16,   0, -15,  -4,  -7,   5,\n",
       "       -21,  -8,  -9,  19,  -9,   0, -12,   2, -16,   8,  -2, -16,  -8,\n",
       "        24,  21, -17, -14,  -8,  -1, -17,  -6, -16,  19,  -4, -13,  -7,\n",
       "       -10,  -6,  -3,  23,  -9,  -7,  10, -11, -12, -15,  -4,  -5,   3,\n",
       "         0,  -1,  15, -22,  14,  -8,  -8,  -4, -24,  11,   4, -21,   4,\n",
       "        -4, -14,  -5, -10, -12,  -6,  17,   1,   0, -21,   3, -14,   5,\n",
       "        -4, -12,  -8,  35, -28,   9,  36, -14,   5,  14,  -7,  -7,   0,\n",
       "        -5,   3,  28,  -1,  -4,   0,  -2,  -4,   0,  -3,  -2,  -2,   0,\n",
       "        -2,  -1,  -1,   0,  -2,   0,  -3,  -1,  -1,   0,  -4,  -4])"
      ]
     },
     "execution_count": 12,
     "metadata": {},
     "output_type": "execute_result"
    }
   ],
   "source": [
    "# [K_st(line[0],train_data[0][0],2) for line in train_data]\n",
    "perceptron(train_data,2)"
   ]
  },
  {
   "cell_type": "code",
   "execution_count": null,
   "metadata": {},
   "outputs": [],
   "source": [
    "[ -9  10  12 -14  -6   5  -3  14 -23  -7 -10  -7   1  -3 -16 -15 -16 -22\n",
    " -13 -20  -5 -16   6  -2   4   0   4   5   7   1 -16  -8  -4  11  -1   2\n",
    "  13   4  -9 -13  -2  -1  -6 -12  -1 -12 -13  -5 -11 -19  -2  -1 -15  24\n",
    "  -2 -16 -16  -8 -18   0  -7  28  -1 -21  28  -2 -19  -5  -9  -4  -8  -5\n",
    "  11   7 -19   3 -11  -9   8  18  -7  21  19  -2   7 -13  -1  17  -1  -8\n",
    "  -5  -1 -11 -11  -8  -9  -5  14 -10   3 -16   1   0  12  -1   5  -5   2\n",
    "  -2 -12  -5  17 -16   3  -3 -12 -10 -12   3 -19  -4   5   1   4 -15   0\n",
    "  -7  15   2  11   3   0  -8  -6   0   4  -5 -11   1  -1  -6  16 -11  -9\n",
    "  19 -11  -2  -3 -29 -12  -1   5   2   0  11 -10   5   0  41 -18   3 -16\n",
    " -36 -27   5 -22  15   0  -4   0 -10 -10  -5  -2  -8 -29 -12  -4   6  -4\n",
    "   1   6 -20 -10   1  -6   1   1  -1 -18 -20   3  14  14 -17  14  16   1\n",
    "  25  23  -8   6  17  11   0  -7   6 -10  16  -2 -12   3   0  13  -2 -13\n",
    "   1   9  11   9   9  -4  13  17 -16 -26  -9  15 -24  13  -3  -4   2   1\n",
    " -16  -4   7  -5  -8  -7  12   1   4 -15 -19 -11  13  19   1 -16 -21  -1\n",
    "   5  11  -2   4   0  -5   5  -3  -3   8  14 -16  -5   6   7   2   6  -3\n",
    " -15  -5   0   0  -8  -5  16  17   2  13 -24  -1   5  11   0   3  -2   3\n",
    "  -8 -16  -4  -2  20  -2  -8 -13 -19 -20  -7  -1   0 -19  -6  22 -15 -23\n",
    "  -7  -1  -6 -23  22  -7   2 -18  -2   7   6 -17 -12  -7   1   0  -6 -15\n",
    "  -1  -3 -10  -4   3 -11  -8   8 -20  -8 -18  -3  -5   4 -11 -10  -6  16\n",
    "  -1  -3 -18   8  -6   6  -2  -7 -10  19  23 -22 -16 -15  -1 -13  -9 -17\n",
    "  21  -3 -16  -7 -10  -6   3  18 -10  -8  12  -8 -17 -14  -7  -7  -4   0\n",
    "  -6  11 -25  18 -10 -11   0 -24  16   6 -20   4   0 -16  -6 -16 -20  -9\n",
    "  12  -1   0 -21  -2  -8   0  -8 -10  -3  35 -24   2  27  -8  13   9   8\n",
    " -17   4  -7  -6  21  -1  -4   0  -1  -4   0  -2  -2  -1   0   0  -1  -2\n",
    "   0  -2   0  -3  -1  -1   0  -4  -2]"
   ]
  }
 ],
 "metadata": {
  "kernelspec": {
   "display_name": "Python 3",
   "language": "python",
   "name": "python3"
  },
  "language_info": {
   "codemirror_mode": {
    "name": "ipython",
    "version": 3
   },
   "file_extension": ".py",
   "mimetype": "text/x-python",
   "name": "python",
   "nbconvert_exporter": "python",
   "pygments_lexer": "ipython3",
   "version": "3.7.1"
  }
 },
 "nbformat": 4,
 "nbformat_minor": 2
}
