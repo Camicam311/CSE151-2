{
 "cells": [
  {
   "cell_type": "code",
   "execution_count": 1,
   "metadata": {},
   "outputs": [],
   "source": [
    "import numpy as np\n",
    "import pandas as pd\n",
    "import random\n",
    "from collections import defaultdict"
   ]
  },
  {
   "cell_type": "code",
   "execution_count": 2,
   "metadata": {},
   "outputs": [],
   "source": [
    "fileTrain = open(\"./pa4train.txt\", 'r')\n",
    "trainS = [line.split(' ') for line in fileTrain]\n",
    "train = []\n",
    "for s in trainS:\n",
    "    if s[1][0] == '-':\n",
    "        train.append((s[0], -1))\n",
    "    else:\n",
    "        train.append((s[0], 1))"
   ]
  },
  {
   "cell_type": "code",
   "execution_count": 3,
   "metadata": {},
   "outputs": [],
   "source": [
    "fileTest = open(\"./pa4test.txt\", \"r\")\n",
    "testS = [line.split(' ') for line in fileTest]\n",
    "test = []\n",
    "for s in testS:\n",
    "    if s[1][0] == '-':\n",
    "        test.append((s[0], -1))\n",
    "    else:\n",
    "        test.append((s[0], 1))"
   ]
  },
  {
   "cell_type": "code",
   "execution_count": 4,
   "metadata": {},
   "outputs": [
    {
     "data": {
      "text/plain": [
       "20"
      ]
     },
     "execution_count": 4,
     "metadata": {},
     "output_type": "execute_result"
    }
   ],
   "source": [
    "alphabet = ['A', 'R', 'N', 'D', 'C', 'Q', 'E', 'G', 'H', 'I', 'L', 'K', 'M', 'F', 'P', 'S', 'T', 'W', 'Y', 'V']\n",
    "len(alphabet)"
   ]
  },
  {
   "cell_type": "code",
   "execution_count": 5,
   "metadata": {},
   "outputs": [],
   "source": [
    "train = [(t[0].replace('B', 'X'), t[1]) for t in train]\n",
    "train = [(t[0].replace('J', 'X'), t[1]) for t in train]\n",
    "train = [(t[0].replace('O', 'X'), t[1]) for t in train]\n",
    "train = [(t[0].replace('U', 'X'), t[1]) for t in train]\n",
    "train = [(t[0].replace('Z', 'X'), t[1]) for t in train]\n",
    "\n",
    "\n",
    "test = [(t[0].replace('B', 'X'), t[1]) for t in test]\n",
    "test = [(t[0].replace('J', 'X'), t[1]) for t in test]\n",
    "test = [(t[0].replace('O', 'X'), t[1]) for t in test]\n",
    "test = [(t[0].replace('U', 'X'), t[1]) for t in test]\n",
    "test = [(t[0].replace('Z', 'X'), t[1]) for t in test]"
   ]
  },
  {
   "cell_type": "code",
   "execution_count": 6,
   "metadata": {},
   "outputs": [],
   "source": [
    "def get_phi(t, p):\n",
    "    tDict = defaultdict(int)\n",
    "    for i in range(len(t)-p+1):\n",
    "        tDict[t[i:i+p]] +=1\n",
    "    return tDict"
   ]
  },
  {
   "cell_type": "code",
   "execution_count": 7,
   "metadata": {},
   "outputs": [],
   "source": [
    "def dot_product(w_dict, phi):\n",
    "    count = 0;\n",
    "    for w in w_dict:\n",
    "        if w in phi:\n",
    "            count += w_dict[w] * phi[w]\n",
    "    return count"
   ]
  },
  {
   "cell_type": "code",
   "execution_count": 29,
   "metadata": {},
   "outputs": [],
   "source": [
    "def insert(w_dict, phi):\n",
    "    for p in phi:\n",
    "#         if p not in w_dict:\n",
    "        w_dict[p] += 1\n",
    "    return w_dict"
   ]
  },
  {
   "cell_type": "code",
   "execution_count": 21,
   "metadata": {},
   "outputs": [],
   "source": [
    "def insert(w_dict, phi):\n",
    "    w = defaultdict(int)\n",
    "    for p in phi:\n",
    "#         if p not in w_dict:\n",
    "        w[p] += phi[p]\n",
    "    for p in w_dict:\n",
    "        w[p] += w_dict[p]\n",
    "    return w"
   ]
  },
  {
   "cell_type": "code",
   "execution_count": 22,
   "metadata": {},
   "outputs": [
    {
     "data": {
      "text/plain": [
       "defaultdict(int, {2: 4, 1: 2})"
      ]
     },
     "execution_count": 22,
     "metadata": {},
     "output_type": "execute_result"
    }
   ],
   "source": [
    "w1 = insert({1:2,2:3},{2:1})\n",
    "w1"
   ]
  },
  {
   "cell_type": "code",
   "execution_count": 1,
   "metadata": {},
   "outputs": [],
   "source": [
    "def multiply(w_dict, y):\n",
    "    for w in w_dict:\n",
    "        w_dict[w] = y*w_dict[w]\n",
    "    return w_dict"
   ]
  },
  {
   "cell_type": "code",
   "execution_count": 3,
   "metadata": {},
   "outputs": [
    {
     "data": {
      "text/plain": [
       "{1: 4}"
      ]
     },
     "execution_count": 3,
     "metadata": {},
     "output_type": "execute_result"
    }
   ],
   "source": [
    "w = {1:2}\n",
    "w = multiply(w,2)\n",
    "w"
   ]
  },
  {
   "cell_type": "code",
   "execution_count": 24,
   "metadata": {},
   "outputs": [],
   "source": [
    "def multiply(w_dict, y):\n",
    "    w_new = defaultdict(int)\n",
    "    for w in w_dict:\n",
    "        w_new[w] = y*w_dict[w]\n",
    "    return w_new"
   ]
  },
  {
   "cell_type": "code",
   "execution_count": 25,
   "metadata": {},
   "outputs": [
    {
     "data": {
      "text/plain": [
       "defaultdict(int, {1: -2, 3: -3})"
      ]
     },
     "execution_count": 25,
     "metadata": {},
     "output_type": "execute_result"
    }
   ],
   "source": [
    "multiply({1:2,3:3},-1)"
   ]
  },
  {
   "cell_type": "code",
   "execution_count": 26,
   "metadata": {},
   "outputs": [],
   "source": [
    "def perceptron(data, p):\n",
    "#     w_list = []\n",
    "#     for d in data:\n",
    "#         num = 0\n",
    "#         for w in w_list:\n",
    "#             num+= w[1]*string_Kernel(w[0], d[0], p)\n",
    "#         if d[1]*num <= 0:\n",
    "#             w_list.append(d)\n",
    "#     return w_list\n",
    "    w_dict = defaultdict(int)\n",
    "    for d in data:\n",
    "#         print(d[0])\n",
    "        phi = get_phi(d[0], p)\n",
    "        dot = dot_product(w_dict, phi)\n",
    "#         print(w_dict)\n",
    "        if d[1]*dot<= 0:\n",
    "#             print(dot)\n",
    "            mul = multiply(phi, d[1])\n",
    "            w_dict = insert(w_dict, mul)\n",
    "#             print(len(w_dict))\n",
    "            \n",
    "    return w_dict"
   ]
  },
  {
   "cell_type": "code",
   "execution_count": 27,
   "metadata": {},
   "outputs": [],
   "source": [
    "def error(data, w_dict, p):\n",
    "    count = 0\n",
    "    for d in data:\n",
    "#         print(d)\n",
    "        phi = get_phi(d[0], p)\n",
    "        dot = dot_product(w_dict, phi)\n",
    "        if d[1]*dot<= 0:\n",
    "#             print(dot)\n",
    "            count+= 1  \n",
    "#     print(count)\n",
    "    return count/len(data)"
   ]
  },
  {
   "cell_type": "code",
   "execution_count": 28,
   "metadata": {},
   "outputs": [
    {
     "name": "stdout",
     "output_type": "stream",
     "text": [
      "p =  2\n",
      "train error is  0.07134986225895316\n",
      "test error is  0.08179419525065963\n",
      "p =  3\n",
      "train error is  0.01349862258953168\n",
      "test error is  0.04221635883905013\n",
      "p =  4\n",
      "train error is  0.009641873278236915\n",
      "test error is  0.03562005277044855\n",
      "p =  5\n",
      "train error is  0.010192837465564738\n",
      "test error is  0.06464379947229551\n"
     ]
    }
   ],
   "source": [
    "for i in range(2, 6):\n",
    "    w_list = perceptron(train, i)\n",
    "    #print(w_list)\n",
    "    train_error = error(train, w_list, i)\n",
    "    test_error = error(test, w_list, i)\n",
    "    \n",
    "    print(\"p = \", i)\n",
    "    print(\"train error is \", train_error)\n",
    "    print(\"test error is \", test_error)"
   ]
  },
  {
   "cell_type": "code",
   "execution_count": null,
   "metadata": {},
   "outputs": [],
   "source": []
  }
 ],
 "metadata": {
  "kernelspec": {
   "display_name": "Python 3",
   "language": "python",
   "name": "python3"
  },
  "language_info": {
   "codemirror_mode": {
    "name": "ipython",
    "version": 3
   },
   "file_extension": ".py",
   "mimetype": "text/x-python",
   "name": "python",
   "nbconvert_exporter": "python",
   "pygments_lexer": "ipython3",
   "version": "3.7.1"
  }
 },
 "nbformat": 4,
 "nbformat_minor": 2
}
