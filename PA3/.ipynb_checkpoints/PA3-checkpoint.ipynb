{
 "cells": [
  {
   "cell_type": "code",
   "execution_count": 1,
   "metadata": {},
   "outputs": [],
   "source": [
    "import numpy as np\n",
    "import random"
   ]
  },
  {
   "cell_type": "code",
   "execution_count": 2,
   "metadata": {},
   "outputs": [],
   "source": [
    "f = open(\"pa3train.txt\",\"r\")\n",
    "train = [line.strip() for line in f]\n",
    "train = [[int(i) for i in line.split()] for line in train]\n",
    "\n",
    "f1 = open(\"pa3test.txt\",\"r\")\n",
    "test = [line.strip() for line in f1]\n",
    "test = [[int(i) for i in line.split()] for line in test]\n",
    "\n",
    "f2 = open(\"pa3dictionary.txt\",\"r\")\n",
    "dictionary = [line.strip() for line in f2]"
   ]
  },
  {
   "cell_type": "code",
   "execution_count": 3,
   "metadata": {},
   "outputs": [],
   "source": [
    "# 1: label1  -1: label2\n",
    "train_12 = [line for line in train if line[-1] == 1 or line[-1] == 2]\n",
    "train_12 = [line[:-1]+[1] if line[-1] == 1 else line[:-1]+[-1] for line in train_12]\n",
    "        \n",
    "test_12 = [line for line in test if line[-1] == 1 or line[-1] == 2]\n",
    "test_12 = [line[:-1]+[1] if line[-1] == 1 else line[:-1]+[-1] for line in test_12]"
   ]
  },
  {
   "cell_type": "markdown",
   "metadata": {},
   "source": [
    "### Q1"
   ]
  },
  {
   "cell_type": "code",
   "execution_count": 4,
   "metadata": {},
   "outputs": [],
   "source": [
    "# Perceptron:\n",
    "def perceptron(data, num_pass):\n",
    "    data_s = data*num_pass\n",
    "    w = [0]*(len(data_s[0])-1)\n",
    "    \n",
    "    for i in range(len(data_s)):\n",
    "        x = data_s[i][:-1]\n",
    "        y = data_s[i][-1]\n",
    "        temp = y*np.dot(w,x)\n",
    "        if temp <= 0:\n",
    "            w = np.add(w,np.multiply(y,x))\n",
    "    \n",
    "    return w"
   ]
  },
  {
   "cell_type": "code",
   "execution_count": 5,
   "metadata": {},
   "outputs": [
    {
     "name": "stdout",
     "output_type": "stream",
     "text": [
      "1 pass\n",
      "train error : 0.04036697247706422\n",
      "test error : 0.05305039787798409\n",
      "2 pass\n",
      "train error : 0.03761467889908257\n",
      "test error : 0.058355437665782495\n",
      "3 pass\n",
      "train error : 0.02110091743119266\n",
      "test error : 0.04509283819628647\n",
      "4 pass\n",
      "train error : 0.015596330275229359\n",
      "test error : 0.04774535809018567\n"
     ]
    }
   ],
   "source": [
    "for i in range(1,5):\n",
    "    print(i, \"pass\")\n",
    "    w = perceptron(train_12,i)\n",
    "    train_result = [1 if np.dot(line[:-1],w) > 0 else -1 \n",
    "                    if np.dot(line[:-1],w) < 0 else random.choice([-1,1]) for line in train_12]\n",
    "    train_error = sum([train_result[i] != train_12[i][-1] for i in range(len(train_12))])/len(train_12)\n",
    "    print(\"train error :\",train_error)\n",
    "\n",
    "    test_result = [1 if np.dot(line[:-1],w) > 0 else -1 \n",
    "                   if np.dot(line[:-1],w) < 0 else random.choice([-1,1]) for line in test_12]\n",
    "    test_error = sum([test_result[i] != test_12[i][-1] for i in range(len(test_12))])/len(test_12)\n",
    "    print(\"test error :\",test_error)"
   ]
  },
  {
   "cell_type": "code",
   "execution_count": 6,
   "metadata": {},
   "outputs": [],
   "source": [
    "# voted perceptron\n",
    "def votedperceptron(data, num_pass):\n",
    "    \n",
    "    data_s = data*num_pass\n",
    "    wcpair = []\n",
    "\n",
    "    w = [0]*(len(data_s[0])-1)\n",
    "    c = 1\n",
    "    wcpair += [(w,c)]\n",
    "    for i in range(len(data_s)):\n",
    "        x = data_s[i][:-1]\n",
    "        y = data_s[i][-1]\n",
    "        temp = y*np.dot(w,x)\n",
    "        if temp <= 0:\n",
    "            wcpair += [(w,c)]\n",
    "            w = np.add(w,np.dot(y,x))\n",
    "            c = 1\n",
    "        else:\n",
    "            c += 1\n",
    "    wcpair += [(w,c)]\n",
    "\n",
    "    return wcpair"
   ]
  },
  {
   "cell_type": "code",
   "execution_count": 7,
   "metadata": {},
   "outputs": [
    {
     "name": "stdout",
     "output_type": "stream",
     "text": [
      "1 pass\n",
      "train error : 0.06697247706422019\n",
      "test error : 0.08753315649867374\n",
      "2 pass\n",
      "train error : 0.04036697247706422\n",
      "test error : 0.0610079575596817\n",
      "3 pass\n",
      "train error : 0.030275229357798167\n",
      "test error : 0.04509283819628647\n",
      "4 pass\n",
      "train error : 0.024770642201834864\n",
      "test error : 0.04509283819628647\n"
     ]
    }
   ],
   "source": [
    "for i in range(1,5):\n",
    "    wcpair = votedperceptron(train_12,i)\n",
    "    print(i,\"pass\")\n",
    "    train_result = [sum([ c if np.dot(w,line[:-1]) > 0 else -c for w,c in wcpair]) for line in train_12]\n",
    "    train_result = [1 if i > 0 else -1 if i < 0 else random.choice([1,-1]) for i in train_result]\n",
    "    train_error = sum([train_result[i] != train_12[i][-1] for i in range(len(train_12))])/len(train_12)\n",
    "    print(\"train error :\",train_error)\n",
    "    \n",
    "    test_result = [sum([ c if np.dot(w,line[:-1]) > 0 else -c for w,c in wcpair]) for line in test_12]\n",
    "    test_result = [1 if i > 0 else -1 if i < 0 else random.choice([1,-1]) for i in test_result]\n",
    "    test_error = sum([test_result[i] != test_12[i][-1] for i in range(len(test_12))])/len(test_12)\n",
    "    print(\"test error :\",test_error)"
   ]
  },
  {
   "cell_type": "code",
   "execution_count": 8,
   "metadata": {},
   "outputs": [],
   "source": [
    "def averagePerceptron(wcpair):\n",
    "    return sum([np.dot(c,w) for w,c in wcpair])"
   ]
  },
  {
   "cell_type": "code",
   "execution_count": 9,
   "metadata": {},
   "outputs": [
    {
     "name": "stdout",
     "output_type": "stream",
     "text": [
      "1 pass\n",
      "train error : 0.07706422018348624\n",
      "test error : 0.11671087533156499\n",
      "2 pass\n",
      "train error : 0.05321100917431193\n",
      "test error : 0.08222811671087533\n",
      "3 pass\n",
      "train error : 0.03669724770642202\n",
      "test error : 0.0610079575596817\n",
      "4 pass\n",
      "train error : 0.03394495412844037\n",
      "test error : 0.050397877984084884\n"
     ]
    }
   ],
   "source": [
    "for i in range(1,5):\n",
    "    wcpair = votedperceptron(train_12,i)\n",
    "    w = averagePerceptron(wcpair)\n",
    "    print(i,\"pass\")\n",
    "    train_result = [1 if np.dot(w,line[:-1]) > 0 else -1 \n",
    "                    if np.dot(line[:-1],w) < 0 else random.choice([-1,1])for line in train_12]\n",
    "    train_error = sum([train_result[i] != train_12[i][-1] for i in range(len(train_12))])/len(train_12)\n",
    "    print(\"train error :\",train_error)\n",
    "    \n",
    "    test_result = [1 if np.dot(w,line[:-1]) > 0 else -1 \n",
    "                   if np.dot(line[:-1],w) < 0 else random.choice([-1,1]) for line in test_12]\n",
    "    test_error = sum([test_result[i] != test_12[i][-1] for i in range(len(test_12))])/len(test_12)\n",
    "    print(\"test error :\",test_error)"
   ]
  },
  {
   "cell_type": "markdown",
   "metadata": {},
   "source": [
    "### Q2"
   ]
  },
  {
   "cell_type": "code",
   "execution_count": 10,
   "metadata": {},
   "outputs": [
    {
     "name": "stdout",
     "output_type": "stream",
     "text": [
      "lowest: [(78, 'he'), (469, 'team'), (393, 'game')]\n",
      "highest: [(438, 'file'), (466, 'program'), (203, 'line')]\n"
     ]
    }
   ],
   "source": [
    "w_avg = averagePerceptron(votedperceptron(train_12,3))\n",
    "\n",
    "sort = sorted([(w_avg[i],i) for i in range(len(w_avg))])\n",
    "lowest = [(i[1],dictionary[i[1]]) for i in sort[:3]]\n",
    "print(\"lowest:\",lowest)\n",
    "highest = [(i[1],dictionary[i[1]]) for i in sort[-1:-4:-1]]\n",
    "print(\"highest:\",highest)"
   ]
  },
  {
   "cell_type": "markdown",
   "metadata": {},
   "source": [
    "### Q3"
   ]
  },
  {
   "cell_type": "code",
   "execution_count": 11,
   "metadata": {},
   "outputs": [],
   "source": [
    "train_1to6 = [[line[:-1]+[1] if line[-1] == i else line[:-1]+[-1] for line in train] for i in range(1,7)]\n",
    "C = [perceptron(l,1) for l in train_1to6]"
   ]
  },
  {
   "cell_type": "code",
   "execution_count": 12,
   "metadata": {},
   "outputs": [],
   "source": [
    "test_report = []\n",
    "for line in test:\n",
    "    t = [np.dot(line[:-1],C[i]) > 0 for i in range(6)]\n",
    "    if (sum(t) == 0 or sum(t) > 1):\n",
    "        test_report += [(\"Don't know\",line[-1])]\n",
    "    else:\n",
    "        test_report += [(t.index(1)+1,line[-1])]"
   ]
  },
  {
   "cell_type": "code",
   "execution_count": 13,
   "metadata": {},
   "outputs": [],
   "source": [
    "confusion_matrix = np.zeros([7,6])\n",
    "for t in test_report:\n",
    "    i,j  = t\n",
    "    if i == \"Don't know\":\n",
    "        j -= 1\n",
    "        confusion_matrix[6][j] += 1\n",
    "    else:\n",
    "        i -= 1\n",
    "        j -= 1\n",
    "        confusion_matrix[i][j] +=1"
   ]
  },
  {
   "cell_type": "code",
   "execution_count": 14,
   "metadata": {},
   "outputs": [],
   "source": [
    "N = [sum([t[-1] == i for t in test_report]) for i in range(1,7)]"
   ]
  },
  {
   "cell_type": "code",
   "execution_count": 15,
   "metadata": {},
   "outputs": [],
   "source": [
    "for i in range(7):\n",
    "    for j in range(6):\n",
    "        confusion_matrix[i][j] = confusion_matrix[i][j] / N[j]"
   ]
  },
  {
   "cell_type": "code",
   "execution_count": 16,
   "metadata": {},
   "outputs": [
    {
     "name": "stdout",
     "output_type": "stream",
     "text": [
      "[[0.71891892 0.00520833 0.03428571 0.02173913 0.         0.        ]\n",
      " [0.01081081 0.65625    0.03428571 0.02717391 0.01282051 0.01851852]\n",
      " [0.         0.015625   0.37142857 0.         0.         0.02777778]\n",
      " [0.01621622 0.00520833 0.         0.69021739 0.         0.        ]\n",
      " [0.01621622 0.03125    0.07428571 0.00543478 0.80128205 0.12037037]\n",
      " [0.00540541 0.01041667 0.03428571 0.         0.07051282 0.49074074]\n",
      " [0.23243243 0.27604167 0.45142857 0.25543478 0.11538462 0.34259259]]\n"
     ]
    }
   ],
   "source": [
    "print(confusion_matrix)"
   ]
  },
  {
   "cell_type": "markdown",
   "metadata": {},
   "source": [
    "(a) The perceptron classifier has the highest accuracy for examples that belong to class 5."
   ]
  },
  {
   "cell_type": "markdown",
   "metadata": {},
   "source": [
    "(b) The perceptron classifier has the least accuracy for examples that belong to class 3."
   ]
  },
  {
   "cell_type": "markdown",
   "metadata": {},
   "source": [
    "(c) The perceptron classifier most often mistakenly classifies an example in class 6 \n",
    "    as belonging to class 5. (i = 5, j = 6)"
   ]
  }
 ],
 "metadata": {
  "kernelspec": {
   "display_name": "Python 3",
   "language": "python",
   "name": "python3"
  },
  "language_info": {
   "codemirror_mode": {
    "name": "ipython",
    "version": 3
   },
   "file_extension": ".py",
   "mimetype": "text/x-python",
   "name": "python",
   "nbconvert_exporter": "python",
   "pygments_lexer": "ipython3",
   "version": "3.7.1"
  }
 },
 "nbformat": 4,
 "nbformat_minor": 2
}
