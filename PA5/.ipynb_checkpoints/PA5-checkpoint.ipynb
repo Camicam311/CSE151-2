{
 "cells": [
  {
   "cell_type": "code",
   "execution_count": 1,
   "metadata": {},
   "outputs": [],
   "source": [
    "import math\n",
    "import numpy as np"
   ]
  },
  {
   "cell_type": "code",
   "execution_count": 2,
   "metadata": {},
   "outputs": [],
   "source": [
    "f = open(\"pa5train.txt\", \"r\")\n",
    "train_data = [[int(i) for i in line.strip().split()] for line in f]\n",
    "\n",
    "f1 = open(\"pa5test.txt\", \"r\")\n",
    "test_data = [[int(i) for i in line.strip().split()] for line in f1]"
   ]
  },
  {
   "cell_type": "code",
   "execution_count": 8,
   "metadata": {},
   "outputs": [],
   "source": [
    "def h( data, word, sign):\n",
    "    list1 = [sign*(1 if line[word] else -1) for line in data]\n",
    "    return list1\n",
    "\n",
    "def err( data, H , D):\n",
    "    err = np.dot(D,[H[i] != data[i][-1] for i in range(len(H))])\n",
    "    return err\n",
    "\n",
    "def alpha(err):\n",
    "    return 1/2*math.log((1-err)/err)"
   ]
  },
  {
   "cell_type": "code",
   "execution_count": 30,
   "metadata": {},
   "outputs": [],
   "source": [
    "def boost(data, t):\n",
    "    classifer = []\n",
    "    D  = [1/len(data)]*len(data)\n",
    "\n",
    "    for i in range(t):\n",
    "        err_list = [(err(data, h(data, i ,sign), D),i,sign) for i in range(4003) for sign in [1,-1]] \n",
    "        error,word,sign = min(err_list)\n",
    "        if (error >= 0.5):\n",
    "            break\n",
    "        \n",
    "        ht = h(data, word, sign)\n",
    "        al = alpha(error)\n",
    "        D = [D[i]*math.exp(-al*data[i][-1]*ht[i]) for i in range(len(D))]\n",
    "        Z = sum(D)\n",
    "        D = [D[i]/Z for i in range(len(D))]\n",
    "        classifer += [(al,word,sign)]\n",
    "    return classifer"
   ]
  },
  {
   "cell_type": "code",
   "execution_count": 31,
   "metadata": {},
   "outputs": [],
   "source": [
    "def error(data, classifier):\n",
    "    count = 0\n",
    "    for line in data:\n",
    "        sum = 0\n",
    "        for (alpha, word, sign) in classifier:\n",
    "            h = 1*sign if line[word] else -1*sign\n",
    "            sum += alpha*h\n",
    "        count += 1 if sum*line[-1] < 0 else 0\n",
    "    return count/len(data)\n",
    "            "
   ]
  },
  {
   "cell_type": "markdown",
   "metadata": {},
   "source": [
    "### Q1"
   ]
  },
  {
   "cell_type": "code",
   "execution_count": 35,
   "metadata": {},
   "outputs": [
    {
     "name": "stdout",
     "output_type": "stream",
     "text": [
      "t = 4\n",
      "train_error: 0.051111111111111114\n",
      "test_error: 0.03875968992248062\n",
      "t = 3\n",
      "train_error: 0.06444444444444444\n",
      "test_error: 0.03875968992248062\n",
      "t = 7\n",
      "train_error: 0.028888888888888888\n",
      "test_error: 0.031007751937984496\n",
      "t = 10\n",
      "train_error: 0.015555555555555555\n",
      "test_error: 0.03875968992248062\n",
      "t = 15\n",
      "train_error: 0.0\n",
      "test_error: 0.023255813953488372\n",
      "t = 20\n",
      "train_error: 0.0\n",
      "test_error: 0.023255813953488372\n"
     ]
    }
   ],
   "source": [
    "for i in [4,3,7,10,15,20]:\n",
    "    classifier = boost(train_data,i)\n",
    "    print(\"t =\",i)\n",
    "    print(\"train_error:\",error(train_data, classifier))\n",
    "    print(\"test_error:\",error(test_data, classifier))"
   ]
  },
  {
   "cell_type": "markdown",
   "metadata": {},
   "source": [
    "### Q2"
   ]
  },
  {
   "cell_type": "code",
   "execution_count": 38,
   "metadata": {},
   "outputs": [],
   "source": [
    "f = open(\"pa5dictionary.txt\", \"r\")\n",
    "dictionary = [w.strip() for w in f]"
   ]
  },
  {
   "cell_type": "code",
   "execution_count": 40,
   "metadata": {},
   "outputs": [],
   "source": [
    "classifier = boost(train_data,10)\n",
    "words = [dictionary[w] for (e,w,s) in classifier]\n",
    "print(words)"
   ]
  }
 ],
 "metadata": {
  "kernelspec": {
   "display_name": "Python 3",
   "language": "python",
   "name": "python3"
  },
  "language_info": {
   "codemirror_mode": {
    "name": "ipython",
    "version": 3
   },
   "file_extension": ".py",
   "mimetype": "text/x-python",
   "name": "python",
   "nbconvert_exporter": "python",
   "pygments_lexer": "ipython3",
   "version": "3.7.1"
  }
 },
 "nbformat": 4,
 "nbformat_minor": 2
}
